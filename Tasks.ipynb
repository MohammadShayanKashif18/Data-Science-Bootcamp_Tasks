{
  "metadata": {
    "language_info": {
      "codemirror_mode": {
        "name": "python",
        "version": 3
      },
      "file_extension": ".py",
      "mimetype": "text/x-python",
      "name": "python",
      "nbconvert_exporter": "python",
      "pygments_lexer": "ipython3",
      "version": "3.8"
    },
    "kernelspec": {
      "name": "python",
      "display_name": "Python (Pyodide)",
      "language": "python"
    }
  },
  "nbformat_minor": 4,
  "nbformat": 4,
  "cells": [
    {
      "cell_type": "code",
      "source": "# Write a program to iterate the first  10 number, and in each iteration, print the sum of the current and previous number \n\nany_value = 0\nfor i in range (1,11):\n    any_value = any_value + i\nprint (any_value)    \n",
      "metadata": {
        "trusted": true
      },
      "execution_count": 1,
      "outputs": [
        {
          "name": "stdout",
          "text": "55\n",
          "output_type": "stream"
        }
      ]
    },
    {
      "cell_type": "code",
      "source": "# Write a program to print numbers pyramids \n\nrow = 5\nfor i in range (1, row + 1):\n    for j in range (1, i + 1):\n        print (i, end=\" \")\n    print () ",
      "metadata": {
        "trusted": true
      },
      "execution_count": 2,
      "outputs": [
        {
          "name": "stdout",
          "text": "1 \n2 2 \n3 3 3 \n4 4 4 4 \n5 5 5 5 5 \n",
          "output_type": "stream"
        }
      ]
    },
    {
      "cell_type": "code",
      "source": "# List is given below \n# numbers = [12, 75, 150, 180, 145, 525, 50]\n# write a program to display only those numbers from a list that satisfy the following conditions\n#1 The number must be divisible by five \n#2 If the number is greater than 150, then skip it and move to the next number \n#3 If the number is greater than 500, then stop the loop \n\nnumbers = [12, 75, 150, 180, 145, 525, 50]\nfor i in numbers:\n    if i %5 == 0:\n        if i > 150:\n            continue\n        elif i > 500:\n            break\n        else:\n            print(i)",
      "metadata": {
        "trusted": true
      },
      "execution_count": 3,
      "outputs": [
        {
          "name": "stdout",
          "text": "75\n150\n145\n50\n",
          "output_type": "stream"
        }
      ]
    },
    {
      "cell_type": "code",
      "source": "# Display Fibonacci series up to 10 terms \n# The Fibonacci Sequence is a series of numbers. The next number is found by adding up the two numbers before it.\n# The fist two numbers are 0 and 1 \n# for example, 0, 1, 1, 2, 3, 5, 8, 13, 21,. The next number in this series above is 13+21 = 34\n\ndef fibonacci(n):\n    fib_series = [0,1]\n    for i in range (2, n):\n        next_term = fib_series[-1] + fib_series[-2]\n        fib_series.append(next_term)\n    return fib_series\nresult = fibonacci(10)\nprint(result)",
      "metadata": {
        "trusted": true
      },
      "execution_count": 4,
      "outputs": [
        {
          "name": "stdout",
          "text": "[0, 1, 1, 2, 3, 5, 8, 13, 21, 34]\n",
          "output_type": "stream"
        }
      ]
    },
    {
      "cell_type": "code",
      "source": "# Write a program to use the loop to find the factorial of a given number.\n# The factorial (symbol: !) means to multiply all whole number from the chosen number down to 1 \n# for example: 5! = 5*4*3*2*1 = 120\n\ndef calculate_factorial(n):\n    factorial = 1\n    # check if the number is non-negative\n    if n < 0:\n        print (\"factorial is not defined for negative numbers.\")\n        \n    else:\n        #calculate factorial using a loop \n        for i in range (1, n + 1):\n            factorial *= i\n            \n    print (f'The factorial of {n} is: {factorial}')\ncalculate_factorial(7)    ",
      "metadata": {
        "trusted": true
      },
      "execution_count": 6,
      "outputs": [
        {
          "name": "stdout",
          "text": "The factorial of 7 is: 5040\n",
          "output_type": "stream"
        }
      ]
    },
    {
      "cell_type": "code",
      "source": "# Write a program t iterate a given list and count the occurrence of each element and print to show the count of each element.\n#sample_list = [11, 45, 8, 11, 23, 45, 23, 45, 89]\n\nsample_list = [11, 45, 8, 11, 23, 45, 23, 45, 89]\n\n#using a dictionary to store the count of each element\nelement_count={}\n\nfor element in sample_list:\n    # incrementing the count for each element in the dictionary \n    element_count[element] = element_count.get(element, 0)+ 1\n\nprint(\"Printing count of each item \", end= \"\")\nfor element, count in element_count.items():\n        print(f\"{element}:{count}\", end=\"\" )\n\n",
      "metadata": {
        "trusted": true
      },
      "execution_count": 16,
      "outputs": [
        {
          "name": "stdout",
          "text": "Printing count of each item 11:245:38:123:289:1",
          "output_type": "stream"
        }
      ]
    },
    {
      "cell_type": "code",
      "source": "# Given two lists, l1 and l2, write a program to create a third list l3 bt picking an odd-index element from the list l1 and \n# even index element from the lsit l2\n# given: l1 = [3, 6, 9, 12, 15, 18, 21]  l2 = [4, 8, 12, 16, 20, 24, 28]\n\nl1 = [3, 6, 9, 12, 15, 18, 21] \nl2 = [4, 8, 12, 16, 20, 24, 28]\n\n# creating l3 by picking odd-index element from l1 and even-index element from l2\nl3 = l1[1::2] + l2[0::2]\n\nprint(\"Resulting list l3: \", l3)",
      "metadata": {
        "trusted": true
      },
      "execution_count": 17,
      "outputs": [
        {
          "name": "stdout",
          "text": "Resulting list l3:  [6, 12, 18, 4, 12, 20, 28]\n",
          "output_type": "stream"
        }
      ]
    },
    {
      "cell_type": "code",
      "source": "",
      "metadata": {},
      "execution_count": null,
      "outputs": []
    },
    {
      "cell_type": "code",
      "source": "",
      "metadata": {},
      "execution_count": null,
      "outputs": []
    },
    {
      "cell_type": "code",
      "source": "",
      "metadata": {},
      "execution_count": null,
      "outputs": []
    }
  ]
}